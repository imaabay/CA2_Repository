{
  "nbformat": 4,
  "nbformat_minor": 0,
  "metadata": {
    "colab": {
      "provenance": [],
      "machine_shape": "hm",
      "gpuType": "T4",
      "authorship_tag": "ABX9TyPk24L952NQFKOm5dN9qCxP",
      "include_colab_link": true
    },
    "kernelspec": {
      "name": "python3",
      "display_name": "Python 3"
    },
    "language_info": {
      "name": "python"
    },
    "widgets": {
      "application/vnd.jupyter.widget-state+json": {
        "03869753490940b88d5f64854ffd681d": {
          "model_module": "@jupyter-widgets/controls",
          "model_name": "HBoxModel",
          "model_module_version": "1.5.0",
          "state": {
            "_dom_classes": [],
            "_model_module": "@jupyter-widgets/controls",
            "_model_module_version": "1.5.0",
            "_model_name": "HBoxModel",
            "_view_count": null,
            "_view_module": "@jupyter-widgets/controls",
            "_view_module_version": "1.5.0",
            "_view_name": "HBoxView",
            "box_style": "",
            "children": [
              "IPY_MODEL_d56f6c0c258d410987dcfb918047b958",
              "IPY_MODEL_acef204e6d704e9db7b2cf6a81ad1b8b",
              "IPY_MODEL_a501d263dd6c4aa9a0749613ed31f1cd"
            ],
            "layout": "IPY_MODEL_a1200f05df3244ca81ddf8efe651978e"
          }
        },
        "d56f6c0c258d410987dcfb918047b958": {
          "model_module": "@jupyter-widgets/controls",
          "model_name": "HTMLModel",
          "model_module_version": "1.5.0",
          "state": {
            "_dom_classes": [],
            "_model_module": "@jupyter-widgets/controls",
            "_model_module_version": "1.5.0",
            "_model_name": "HTMLModel",
            "_view_count": null,
            "_view_module": "@jupyter-widgets/controls",
            "_view_module_version": "1.5.0",
            "_view_name": "HTMLView",
            "description": "",
            "description_tooltip": null,
            "layout": "IPY_MODEL_8256b73c2ff54c90ac768ed40a5fded9",
            "placeholder": "​",
            "style": "IPY_MODEL_a9f25f6a1f6a43859a3c46b53b823483",
            "value": ""
          }
        },
        "acef204e6d704e9db7b2cf6a81ad1b8b": {
          "model_module": "@jupyter-widgets/controls",
          "model_name": "FloatProgressModel",
          "model_module_version": "1.5.0",
          "state": {
            "_dom_classes": [],
            "_model_module": "@jupyter-widgets/controls",
            "_model_module_version": "1.5.0",
            "_model_name": "FloatProgressModel",
            "_view_count": null,
            "_view_module": "@jupyter-widgets/controls",
            "_view_module_version": "1.5.0",
            "_view_name": "ProgressView",
            "bar_style": "success",
            "description": "",
            "description_tooltip": null,
            "layout": "IPY_MODEL_fc5c7ba865bb421bb5ea0e94432e33b1",
            "max": 1,
            "min": 0,
            "orientation": "horizontal",
            "style": "IPY_MODEL_2dd17372030e44f6aa8762291469a712",
            "value": 1
          }
        },
        "a501d263dd6c4aa9a0749613ed31f1cd": {
          "model_module": "@jupyter-widgets/controls",
          "model_name": "HTMLModel",
          "model_module_version": "1.5.0",
          "state": {
            "_dom_classes": [],
            "_model_module": "@jupyter-widgets/controls",
            "_model_module_version": "1.5.0",
            "_model_name": "HTMLModel",
            "_view_count": null,
            "_view_module": "@jupyter-widgets/controls",
            "_view_module_version": "1.5.0",
            "_view_name": "HTMLView",
            "description": "",
            "description_tooltip": null,
            "layout": "IPY_MODEL_034d6968693447498c33344967fffa8c",
            "placeholder": "​",
            "style": "IPY_MODEL_50e1f3dd246d4b359b88852dd6349a0b",
            "value": " 5/? [01:11&lt;00:00,  8.76s/it]"
          }
        },
        "a1200f05df3244ca81ddf8efe651978e": {
          "model_module": "@jupyter-widgets/base",
          "model_name": "LayoutModel",
          "model_module_version": "1.2.0",
          "state": {
            "_model_module": "@jupyter-widgets/base",
            "_model_module_version": "1.2.0",
            "_model_name": "LayoutModel",
            "_view_count": null,
            "_view_module": "@jupyter-widgets/base",
            "_view_module_version": "1.2.0",
            "_view_name": "LayoutView",
            "align_content": null,
            "align_items": null,
            "align_self": null,
            "border": null,
            "bottom": null,
            "display": null,
            "flex": null,
            "flex_flow": null,
            "grid_area": null,
            "grid_auto_columns": null,
            "grid_auto_flow": null,
            "grid_auto_rows": null,
            "grid_column": null,
            "grid_gap": null,
            "grid_row": null,
            "grid_template_areas": null,
            "grid_template_columns": null,
            "grid_template_rows": null,
            "height": null,
            "justify_content": null,
            "justify_items": null,
            "left": null,
            "margin": null,
            "max_height": null,
            "max_width": null,
            "min_height": null,
            "min_width": null,
            "object_fit": null,
            "object_position": null,
            "order": null,
            "overflow": null,
            "overflow_x": null,
            "overflow_y": null,
            "padding": null,
            "right": null,
            "top": null,
            "visibility": null,
            "width": null
          }
        },
        "8256b73c2ff54c90ac768ed40a5fded9": {
          "model_module": "@jupyter-widgets/base",
          "model_name": "LayoutModel",
          "model_module_version": "1.2.0",
          "state": {
            "_model_module": "@jupyter-widgets/base",
            "_model_module_version": "1.2.0",
            "_model_name": "LayoutModel",
            "_view_count": null,
            "_view_module": "@jupyter-widgets/base",
            "_view_module_version": "1.2.0",
            "_view_name": "LayoutView",
            "align_content": null,
            "align_items": null,
            "align_self": null,
            "border": null,
            "bottom": null,
            "display": null,
            "flex": null,
            "flex_flow": null,
            "grid_area": null,
            "grid_auto_columns": null,
            "grid_auto_flow": null,
            "grid_auto_rows": null,
            "grid_column": null,
            "grid_gap": null,
            "grid_row": null,
            "grid_template_areas": null,
            "grid_template_columns": null,
            "grid_template_rows": null,
            "height": null,
            "justify_content": null,
            "justify_items": null,
            "left": null,
            "margin": null,
            "max_height": null,
            "max_width": null,
            "min_height": null,
            "min_width": null,
            "object_fit": null,
            "object_position": null,
            "order": null,
            "overflow": null,
            "overflow_x": null,
            "overflow_y": null,
            "padding": null,
            "right": null,
            "top": null,
            "visibility": null,
            "width": null
          }
        },
        "a9f25f6a1f6a43859a3c46b53b823483": {
          "model_module": "@jupyter-widgets/controls",
          "model_name": "DescriptionStyleModel",
          "model_module_version": "1.5.0",
          "state": {
            "_model_module": "@jupyter-widgets/controls",
            "_model_module_version": "1.5.0",
            "_model_name": "DescriptionStyleModel",
            "_view_count": null,
            "_view_module": "@jupyter-widgets/base",
            "_view_module_version": "1.2.0",
            "_view_name": "StyleView",
            "description_width": ""
          }
        },
        "fc5c7ba865bb421bb5ea0e94432e33b1": {
          "model_module": "@jupyter-widgets/base",
          "model_name": "LayoutModel",
          "model_module_version": "1.2.0",
          "state": {
            "_model_module": "@jupyter-widgets/base",
            "_model_module_version": "1.2.0",
            "_model_name": "LayoutModel",
            "_view_count": null,
            "_view_module": "@jupyter-widgets/base",
            "_view_module_version": "1.2.0",
            "_view_name": "LayoutView",
            "align_content": null,
            "align_items": null,
            "align_self": null,
            "border": null,
            "bottom": null,
            "display": null,
            "flex": null,
            "flex_flow": null,
            "grid_area": null,
            "grid_auto_columns": null,
            "grid_auto_flow": null,
            "grid_auto_rows": null,
            "grid_column": null,
            "grid_gap": null,
            "grid_row": null,
            "grid_template_areas": null,
            "grid_template_columns": null,
            "grid_template_rows": null,
            "height": null,
            "justify_content": null,
            "justify_items": null,
            "left": null,
            "margin": null,
            "max_height": null,
            "max_width": null,
            "min_height": null,
            "min_width": null,
            "object_fit": null,
            "object_position": null,
            "order": null,
            "overflow": null,
            "overflow_x": null,
            "overflow_y": null,
            "padding": null,
            "right": null,
            "top": null,
            "visibility": null,
            "width": "20px"
          }
        },
        "2dd17372030e44f6aa8762291469a712": {
          "model_module": "@jupyter-widgets/controls",
          "model_name": "ProgressStyleModel",
          "model_module_version": "1.5.0",
          "state": {
            "_model_module": "@jupyter-widgets/controls",
            "_model_module_version": "1.5.0",
            "_model_name": "ProgressStyleModel",
            "_view_count": null,
            "_view_module": "@jupyter-widgets/base",
            "_view_module_version": "1.2.0",
            "_view_name": "StyleView",
            "bar_color": null,
            "description_width": ""
          }
        },
        "034d6968693447498c33344967fffa8c": {
          "model_module": "@jupyter-widgets/base",
          "model_name": "LayoutModel",
          "model_module_version": "1.2.0",
          "state": {
            "_model_module": "@jupyter-widgets/base",
            "_model_module_version": "1.2.0",
            "_model_name": "LayoutModel",
            "_view_count": null,
            "_view_module": "@jupyter-widgets/base",
            "_view_module_version": "1.2.0",
            "_view_name": "LayoutView",
            "align_content": null,
            "align_items": null,
            "align_self": null,
            "border": null,
            "bottom": null,
            "display": null,
            "flex": null,
            "flex_flow": null,
            "grid_area": null,
            "grid_auto_columns": null,
            "grid_auto_flow": null,
            "grid_auto_rows": null,
            "grid_column": null,
            "grid_gap": null,
            "grid_row": null,
            "grid_template_areas": null,
            "grid_template_columns": null,
            "grid_template_rows": null,
            "height": null,
            "justify_content": null,
            "justify_items": null,
            "left": null,
            "margin": null,
            "max_height": null,
            "max_width": null,
            "min_height": null,
            "min_width": null,
            "object_fit": null,
            "object_position": null,
            "order": null,
            "overflow": null,
            "overflow_x": null,
            "overflow_y": null,
            "padding": null,
            "right": null,
            "top": null,
            "visibility": null,
            "width": null
          }
        },
        "50e1f3dd246d4b359b88852dd6349a0b": {
          "model_module": "@jupyter-widgets/controls",
          "model_name": "DescriptionStyleModel",
          "model_module_version": "1.5.0",
          "state": {
            "_model_module": "@jupyter-widgets/controls",
            "_model_module_version": "1.5.0",
            "_model_name": "DescriptionStyleModel",
            "_view_count": null,
            "_view_module": "@jupyter-widgets/base",
            "_view_module_version": "1.2.0",
            "_view_name": "StyleView",
            "description_width": ""
          }
        }
      }
    },
    "accelerator": "GPU"
  },
  "cells": [
    {
      "cell_type": "markdown",
      "metadata": {
        "id": "view-in-github",
        "colab_type": "text"
      },
      "source": [
        "<a href=\"https://colab.research.google.com/github/imaabay/CA2_Repository/blob/main/method1/gpt_experiments/ST01A_v2.ipynb\" target=\"_parent\"><img src=\"https://colab.research.google.com/assets/colab-badge.svg\" alt=\"Open In Colab\"/></a>"
      ]
    },
    {
      "cell_type": "markdown",
      "source": [
        "Basic Template"
      ],
      "metadata": {
        "id": "XKCXT8UeI_Gk"
      }
    },
    {
      "cell_type": "code",
      "execution_count": null,
      "metadata": {
        "colab": {
          "base_uri": "https://localhost:8080/"
        },
        "id": "1xvQWOnn1eGH",
        "outputId": "3c8af2eb-a142-4f6e-bb68-48c1837886fc"
      },
      "outputs": [
        {
          "output_type": "stream",
          "name": "stdout",
          "text": [
            "Requirement already satisfied: langchain in /usr/local/lib/python3.10/dist-packages (0.3.7)\n",
            "Collecting langchain-community\n",
            "  Downloading langchain_community-0.3.7-py3-none-any.whl.metadata (2.9 kB)\n",
            "Collecting langchain-openai\n",
            "  Downloading langchain_openai-0.2.8-py3-none-any.whl.metadata (2.6 kB)\n",
            "Requirement already satisfied: PyYAML>=5.3 in /usr/local/lib/python3.10/dist-packages (from langchain) (6.0.2)\n",
            "Requirement already satisfied: SQLAlchemy<3,>=1.4 in /usr/local/lib/python3.10/dist-packages (from langchain) (2.0.36)\n",
            "Requirement already satisfied: aiohttp<4.0.0,>=3.8.3 in /usr/local/lib/python3.10/dist-packages (from langchain) (3.10.10)\n",
            "Requirement already satisfied: async-timeout<5.0.0,>=4.0.0 in /usr/local/lib/python3.10/dist-packages (from langchain) (4.0.3)\n",
            "Requirement already satisfied: langchain-core<0.4.0,>=0.3.15 in /usr/local/lib/python3.10/dist-packages (from langchain) (0.3.15)\n",
            "Requirement already satisfied: langchain-text-splitters<0.4.0,>=0.3.0 in /usr/local/lib/python3.10/dist-packages (from langchain) (0.3.2)\n",
            "Requirement already satisfied: langsmith<0.2.0,>=0.1.17 in /usr/local/lib/python3.10/dist-packages (from langchain) (0.1.142)\n",
            "Requirement already satisfied: numpy<2,>=1 in /usr/local/lib/python3.10/dist-packages (from langchain) (1.26.4)\n",
            "Requirement already satisfied: pydantic<3.0.0,>=2.7.4 in /usr/local/lib/python3.10/dist-packages (from langchain) (2.9.2)\n",
            "Requirement already satisfied: requests<3,>=2 in /usr/local/lib/python3.10/dist-packages (from langchain) (2.32.3)\n",
            "Requirement already satisfied: tenacity!=8.4.0,<10,>=8.1.0 in /usr/local/lib/python3.10/dist-packages (from langchain) (9.0.0)\n",
            "Collecting SQLAlchemy<3,>=1.4 (from langchain)\n",
            "  Downloading SQLAlchemy-2.0.35-cp310-cp310-manylinux_2_17_x86_64.manylinux2014_x86_64.whl.metadata (9.6 kB)\n",
            "Collecting dataclasses-json<0.7,>=0.5.7 (from langchain-community)\n",
            "  Downloading dataclasses_json-0.6.7-py3-none-any.whl.metadata (25 kB)\n",
            "Collecting httpx-sse<0.5.0,>=0.4.0 (from langchain-community)\n",
            "  Downloading httpx_sse-0.4.0-py3-none-any.whl.metadata (9.0 kB)\n",
            "Collecting langchain-core<0.4.0,>=0.3.15 (from langchain)\n",
            "  Downloading langchain_core-0.3.17-py3-none-any.whl.metadata (6.3 kB)\n",
            "Collecting pydantic-settings<3.0.0,>=2.4.0 (from langchain-community)\n",
            "  Downloading pydantic_settings-2.6.1-py3-none-any.whl.metadata (3.5 kB)\n",
            "Requirement already satisfied: openai<2.0.0,>=1.54.0 in /usr/local/lib/python3.10/dist-packages (from langchain-openai) (1.54.3)\n",
            "Collecting tiktoken<1,>=0.7 (from langchain-openai)\n",
            "  Downloading tiktoken-0.8.0-cp310-cp310-manylinux_2_17_x86_64.manylinux2014_x86_64.whl.metadata (6.6 kB)\n",
            "Requirement already satisfied: aiohappyeyeballs>=2.3.0 in /usr/local/lib/python3.10/dist-packages (from aiohttp<4.0.0,>=3.8.3->langchain) (2.4.3)\n",
            "Requirement already satisfied: aiosignal>=1.1.2 in /usr/local/lib/python3.10/dist-packages (from aiohttp<4.0.0,>=3.8.3->langchain) (1.3.1)\n",
            "Requirement already satisfied: attrs>=17.3.0 in /usr/local/lib/python3.10/dist-packages (from aiohttp<4.0.0,>=3.8.3->langchain) (24.2.0)\n",
            "Requirement already satisfied: frozenlist>=1.1.1 in /usr/local/lib/python3.10/dist-packages (from aiohttp<4.0.0,>=3.8.3->langchain) (1.5.0)\n",
            "Requirement already satisfied: multidict<7.0,>=4.5 in /usr/local/lib/python3.10/dist-packages (from aiohttp<4.0.0,>=3.8.3->langchain) (6.1.0)\n",
            "Requirement already satisfied: yarl<2.0,>=1.12.0 in /usr/local/lib/python3.10/dist-packages (from aiohttp<4.0.0,>=3.8.3->langchain) (1.17.1)\n",
            "Collecting marshmallow<4.0.0,>=3.18.0 (from dataclasses-json<0.7,>=0.5.7->langchain-community)\n",
            "  Downloading marshmallow-3.23.1-py3-none-any.whl.metadata (7.5 kB)\n",
            "Collecting typing-inspect<1,>=0.4.0 (from dataclasses-json<0.7,>=0.5.7->langchain-community)\n",
            "  Downloading typing_inspect-0.9.0-py3-none-any.whl.metadata (1.5 kB)\n",
            "Requirement already satisfied: jsonpatch<2.0,>=1.33 in /usr/local/lib/python3.10/dist-packages (from langchain-core<0.4.0,>=0.3.15->langchain) (1.33)\n",
            "Requirement already satisfied: packaging<25,>=23.2 in /usr/local/lib/python3.10/dist-packages (from langchain-core<0.4.0,>=0.3.15->langchain) (24.2)\n",
            "Requirement already satisfied: typing-extensions>=4.7 in /usr/local/lib/python3.10/dist-packages (from langchain-core<0.4.0,>=0.3.15->langchain) (4.12.2)\n",
            "Requirement already satisfied: httpx<1,>=0.23.0 in /usr/local/lib/python3.10/dist-packages (from langsmith<0.2.0,>=0.1.17->langchain) (0.27.2)\n",
            "Requirement already satisfied: orjson<4.0.0,>=3.9.14 in /usr/local/lib/python3.10/dist-packages (from langsmith<0.2.0,>=0.1.17->langchain) (3.10.11)\n",
            "Requirement already satisfied: requests-toolbelt<2.0.0,>=1.0.0 in /usr/local/lib/python3.10/dist-packages (from langsmith<0.2.0,>=0.1.17->langchain) (1.0.0)\n",
            "Requirement already satisfied: anyio<5,>=3.5.0 in /usr/local/lib/python3.10/dist-packages (from openai<2.0.0,>=1.54.0->langchain-openai) (3.7.1)\n",
            "Requirement already satisfied: distro<2,>=1.7.0 in /usr/local/lib/python3.10/dist-packages (from openai<2.0.0,>=1.54.0->langchain-openai) (1.9.0)\n",
            "Requirement already satisfied: jiter<1,>=0.4.0 in /usr/local/lib/python3.10/dist-packages (from openai<2.0.0,>=1.54.0->langchain-openai) (0.7.0)\n",
            "Requirement already satisfied: sniffio in /usr/local/lib/python3.10/dist-packages (from openai<2.0.0,>=1.54.0->langchain-openai) (1.3.1)\n",
            "Requirement already satisfied: tqdm>4 in /usr/local/lib/python3.10/dist-packages (from openai<2.0.0,>=1.54.0->langchain-openai) (4.66.6)\n",
            "Requirement already satisfied: annotated-types>=0.6.0 in /usr/local/lib/python3.10/dist-packages (from pydantic<3.0.0,>=2.7.4->langchain) (0.7.0)\n",
            "Requirement already satisfied: pydantic-core==2.23.4 in /usr/local/lib/python3.10/dist-packages (from pydantic<3.0.0,>=2.7.4->langchain) (2.23.4)\n",
            "Collecting python-dotenv>=0.21.0 (from pydantic-settings<3.0.0,>=2.4.0->langchain-community)\n",
            "  Downloading python_dotenv-1.0.1-py3-none-any.whl.metadata (23 kB)\n",
            "Requirement already satisfied: charset-normalizer<4,>=2 in /usr/local/lib/python3.10/dist-packages (from requests<3,>=2->langchain) (3.4.0)\n",
            "Requirement already satisfied: idna<4,>=2.5 in /usr/local/lib/python3.10/dist-packages (from requests<3,>=2->langchain) (3.10)\n",
            "Requirement already satisfied: urllib3<3,>=1.21.1 in /usr/local/lib/python3.10/dist-packages (from requests<3,>=2->langchain) (2.2.3)\n",
            "Requirement already satisfied: certifi>=2017.4.17 in /usr/local/lib/python3.10/dist-packages (from requests<3,>=2->langchain) (2024.8.30)\n",
            "Requirement already satisfied: greenlet!=0.4.17 in /usr/local/lib/python3.10/dist-packages (from SQLAlchemy<3,>=1.4->langchain) (3.1.1)\n",
            "Requirement already satisfied: regex>=2022.1.18 in /usr/local/lib/python3.10/dist-packages (from tiktoken<1,>=0.7->langchain-openai) (2024.9.11)\n",
            "Requirement already satisfied: exceptiongroup in /usr/local/lib/python3.10/dist-packages (from anyio<5,>=3.5.0->openai<2.0.0,>=1.54.0->langchain-openai) (1.2.2)\n",
            "Requirement already satisfied: httpcore==1.* in /usr/local/lib/python3.10/dist-packages (from httpx<1,>=0.23.0->langsmith<0.2.0,>=0.1.17->langchain) (1.0.6)\n",
            "Requirement already satisfied: h11<0.15,>=0.13 in /usr/local/lib/python3.10/dist-packages (from httpcore==1.*->httpx<1,>=0.23.0->langsmith<0.2.0,>=0.1.17->langchain) (0.14.0)\n",
            "Requirement already satisfied: jsonpointer>=1.9 in /usr/local/lib/python3.10/dist-packages (from jsonpatch<2.0,>=1.33->langchain-core<0.4.0,>=0.3.15->langchain) (3.0.0)\n",
            "Collecting mypy-extensions>=0.3.0 (from typing-inspect<1,>=0.4.0->dataclasses-json<0.7,>=0.5.7->langchain-community)\n",
            "  Downloading mypy_extensions-1.0.0-py3-none-any.whl.metadata (1.1 kB)\n",
            "Requirement already satisfied: propcache>=0.2.0 in /usr/local/lib/python3.10/dist-packages (from yarl<2.0,>=1.12.0->aiohttp<4.0.0,>=3.8.3->langchain) (0.2.0)\n",
            "Downloading langchain_community-0.3.7-py3-none-any.whl (2.4 MB)\n",
            "\u001b[2K   \u001b[90m━━━━━━━━━━━━━━━━━━━━━━━━━━━━━━━━━━━━━━━━\u001b[0m \u001b[32m2.4/2.4 MB\u001b[0m \u001b[31m13.6 MB/s\u001b[0m eta \u001b[36m0:00:00\u001b[0m\n",
            "\u001b[?25hDownloading langchain_openai-0.2.8-py3-none-any.whl (50 kB)\n",
            "\u001b[2K   \u001b[90m━━━━━━━━━━━━━━━━━━━━━━━━━━━━━━━━━━━━━━━━\u001b[0m \u001b[32m50.4/50.4 kB\u001b[0m \u001b[31m2.8 MB/s\u001b[0m eta \u001b[36m0:00:00\u001b[0m\n",
            "\u001b[?25hDownloading dataclasses_json-0.6.7-py3-none-any.whl (28 kB)\n",
            "Downloading httpx_sse-0.4.0-py3-none-any.whl (7.8 kB)\n",
            "Downloading langchain_core-0.3.17-py3-none-any.whl (409 kB)\n",
            "\u001b[2K   \u001b[90m━━━━━━━━━━━━━━━━━━━━━━━━━━━━━━━━━━━━━━━━\u001b[0m \u001b[32m409.3/409.3 kB\u001b[0m \u001b[31m13.5 MB/s\u001b[0m eta \u001b[36m0:00:00\u001b[0m\n",
            "\u001b[?25hDownloading pydantic_settings-2.6.1-py3-none-any.whl (28 kB)\n",
            "Downloading SQLAlchemy-2.0.35-cp310-cp310-manylinux_2_17_x86_64.manylinux2014_x86_64.whl (3.1 MB)\n",
            "\u001b[2K   \u001b[90m━━━━━━━━━━━━━━━━━━━━━━━━━━━━━━━━━━━━━━━━\u001b[0m \u001b[32m3.1/3.1 MB\u001b[0m \u001b[31m14.4 MB/s\u001b[0m eta \u001b[36m0:00:00\u001b[0m\n",
            "\u001b[?25hDownloading tiktoken-0.8.0-cp310-cp310-manylinux_2_17_x86_64.manylinux2014_x86_64.whl (1.2 MB)\n",
            "\u001b[2K   \u001b[90m━━━━━━━━━━━━━━━━━━━━━━━━━━━━━━━━━━━━━━━━\u001b[0m \u001b[32m1.2/1.2 MB\u001b[0m \u001b[31m17.0 MB/s\u001b[0m eta \u001b[36m0:00:00\u001b[0m\n",
            "\u001b[?25hDownloading marshmallow-3.23.1-py3-none-any.whl (49 kB)\n",
            "\u001b[2K   \u001b[90m━━━━━━━━━━━━━━━━━━━━━━━━━━━━━━━━━━━━━━━━\u001b[0m \u001b[32m49.5/49.5 kB\u001b[0m \u001b[31m2.3 MB/s\u001b[0m eta \u001b[36m0:00:00\u001b[0m\n",
            "\u001b[?25hDownloading python_dotenv-1.0.1-py3-none-any.whl (19 kB)\n",
            "Downloading typing_inspect-0.9.0-py3-none-any.whl (8.8 kB)\n",
            "Downloading mypy_extensions-1.0.0-py3-none-any.whl (4.7 kB)\n",
            "Installing collected packages: SQLAlchemy, python-dotenv, mypy-extensions, marshmallow, httpx-sse, typing-inspect, tiktoken, pydantic-settings, dataclasses-json, langchain-core, langchain-openai, langchain-community\n",
            "  Attempting uninstall: SQLAlchemy\n",
            "    Found existing installation: SQLAlchemy 2.0.36\n",
            "    Uninstalling SQLAlchemy-2.0.36:\n",
            "      Successfully uninstalled SQLAlchemy-2.0.36\n",
            "  Attempting uninstall: langchain-core\n",
            "    Found existing installation: langchain-core 0.3.15\n",
            "    Uninstalling langchain-core-0.3.15:\n",
            "      Successfully uninstalled langchain-core-0.3.15\n",
            "Successfully installed SQLAlchemy-2.0.35 dataclasses-json-0.6.7 httpx-sse-0.4.0 langchain-community-0.3.7 langchain-core-0.3.17 langchain-openai-0.2.8 marshmallow-3.23.1 mypy-extensions-1.0.0 pydantic-settings-2.6.1 python-dotenv-1.0.1 tiktoken-0.8.0 typing-inspect-0.9.0\n"
          ]
        }
      ],
      "source": [
        "!pip install langchain langchain-community langchain-openai"
      ]
    },
    {
      "cell_type": "code",
      "source": [
        "from langchain_openai import OpenAI, ChatOpenAI\n",
        "from langchain import PromptTemplate\n",
        "import os\n",
        "from google.colab import userdata\n",
        "\n",
        "os.environ[\"OPENAI_API_KEY\"] = userdata.get('OPENAI_API_KEY')"
      ],
      "metadata": {
        "id": "L3cGc0_s1rcz"
      },
      "execution_count": null,
      "outputs": []
    },
    {
      "cell_type": "code",
      "source": [
        "os.environ[\"LANGCHAIN_TRACING_V2\"] = \"true\"\n",
        "os.environ[\"LANGCHAIN_ENDPOINT\"] = \"https://api.smith.langchain.com\"\n",
        "os.environ[\"LANGCHAIN_API_KEY\"] = userdata.get(\"LANGCHAIN_API_KEY\")"
      ],
      "metadata": {
        "id": "MUtTI8WF1ufx"
      },
      "execution_count": null,
      "outputs": []
    },
    {
      "cell_type": "code",
      "source": [
        "from langsmith import Client\n",
        "\n",
        "client = Client()"
      ],
      "metadata": {
        "id": "GnALc7w-1wMM"
      },
      "execution_count": null,
      "outputs": []
    },
    {
      "cell_type": "markdown",
      "source": [
        "## Setup Evaluation Metrics"
      ],
      "metadata": {
        "id": "UA-ea2LZGJ5K"
      }
    },
    {
      "cell_type": "code",
      "source": [
        "from langchain_openai import ChatOpenAI # Try ChatAnthropic as well\n",
        "from langchain_core.prompts.prompt import PromptTemplate\n",
        "from langsmith.evaluation import LangChainStringEvaluator\n",
        "\n",
        "_PROMPT_TEMPLATE = \"\"\"\n",
        "  You are an expert tasked with evaluating the explainability of large language model-generated answers for medical diagnoses.\n",
        "  Your role is to assess whether the given answers provide sufficient explanation and clarity for a user to understand the medical diagnosis.\n",
        "  You are assessing the following question:\n",
        "  {query}\n",
        "  Here is the real answer:\n",
        "  {context}\n",
        "  You are assessing the following predicted answer:\n",
        "  {result}\n",
        "\"\"\"\n",
        "\n",
        "PROMPT = PromptTemplate(\n",
        "    input_variables = [\"query\", \"context\", \"result\"],\n",
        "    template = _PROMPT_TEMPLATE\n",
        ")\n",
        "\n",
        "eval_llm = ChatOpenAI( temperature=0)\n",
        "\n",
        "evaluators = [\n",
        "  LangChainStringEvaluator(\"context_qa\", config={\"llm\": eval_llm, \"prompt\": PROMPT}),\n",
        "  LangChainStringEvaluator(\"labeled_criteria\", config={\"criteria\": \"conciseness\"}),\n",
        "  LangChainStringEvaluator(\"labeled_criteria\", config={\"criteria\": \"coherence\"}),\n",
        "  LangChainStringEvaluator(\"labeled_criteria\", config={\"criteria\": \"detail\"}),\n",
        "  LangChainStringEvaluator(\"labeled_criteria\", config={\"criteria\": \"helpfulness\"}),\n",
        "  LangChainStringEvaluator(\"labeled_criteria\", config={\"criteria\": \"depth\"}),\n",
        "  LangChainStringEvaluator(\"labeled_criteria\", config={\"criteria\": \"insensitivity\"}),\n",
        "  LangChainStringEvaluator(\"labeled_criteria\", config={\"criteria\": \"harmfulness\"}),\n",
        "\n",
        "]"
      ],
      "metadata": {
        "id": "RbAbBOvr26OJ"
      },
      "execution_count": null,
      "outputs": []
    },
    {
      "cell_type": "markdown",
      "source": [
        "## Run Evaluation"
      ],
      "metadata": {
        "id": "Ka70Hq1OJEeH"
      }
    },
    {
      "cell_type": "code",
      "source": [
        "import openai\n",
        "\n",
        "openai_client = openai.Client()\n",
        "\n",
        "def my_app_v1(question):\n",
        "   print(\"question: \", question)\n",
        "   return openai_client.chat.completions.create(\n",
        "       model=\"gpt-4o-mini\",\n",
        "       temperature=0,\n",
        "       messages=[\n",
        "           {\n",
        "               \"role\": \"system\",\n",
        "               \"content\": \"You are an AI chatbot designed to assist doctors in diagnosing patients. Your role is to provide accurate diagnosis based on the information provided and to clearly explain the reasoning behind each diagnosis. Always ensure that the information you provide is truthful and reliable.\"\n",
        "           },\n",
        "           {\n",
        "               \"role\": \"user\",\n",
        "               \"content\": question,\n",
        "           }\n",
        "       ],\n",
        "   ).choices[0].message.content\n",
        "\n",
        "def langsmith_app(inputs):\n",
        "  print(\"inputs: \", inputs)\n",
        "  output = my_app_v1(inputs[\"question\"])\n",
        "  print(\"output: \", output)\n",
        "  return {\"output\": output}"
      ],
      "metadata": {
        "id": "VbKI5RjS3akM"
      },
      "execution_count": null,
      "outputs": []
    },
    {
      "cell_type": "code",
      "source": [
        "from langsmith import evaluate\n",
        "\n",
        "experiment_results = evaluate(\n",
        "    langsmith_app, # AI System\n",
        "    data = \"XAI_EVAL\",\n",
        "    evaluators=evaluators,\n",
        "    experiment_prefix=\"REMOVE-TESTONLY-basic-template-evaluation-gpt-4o-mini\"\n",
        ")"
      ],
      "metadata": {
        "colab": {
          "base_uri": "https://localhost:8080/",
          "height": 1000,
          "referenced_widgets": [
            "03869753490940b88d5f64854ffd681d",
            "d56f6c0c258d410987dcfb918047b958",
            "acef204e6d704e9db7b2cf6a81ad1b8b",
            "a501d263dd6c4aa9a0749613ed31f1cd",
            "a1200f05df3244ca81ddf8efe651978e",
            "8256b73c2ff54c90ac768ed40a5fded9",
            "a9f25f6a1f6a43859a3c46b53b823483",
            "fc5c7ba865bb421bb5ea0e94432e33b1",
            "2dd17372030e44f6aa8762291469a712",
            "034d6968693447498c33344967fffa8c",
            "50e1f3dd246d4b359b88852dd6349a0b"
          ]
        },
        "id": "IaodwF8s3mFq",
        "outputId": "672a6e1f-a68f-4d85-cef8-ca80a817ce78"
      },
      "execution_count": null,
      "outputs": [
        {
          "output_type": "stream",
          "name": "stdout",
          "text": [
            "View the evaluation results for experiment: 'REMOVE-TESTONLY-basic-template-evaluation-gpt-4o-mini-79149ab7' at:\n",
            "https://smith.langchain.com/o/683c5cb9-3b64-5127-a5a8-405b032642f2/datasets/b7b8dceb-8703-42f2-92ba-cfa8aad7542b/compare?selectedSessions=9513a8fd-882d-4724-849b-69a415f8be44\n",
            "\n",
            "\n"
          ]
        },
        {
          "output_type": "display_data",
          "data": {
            "text/plain": [
              "0it [00:00, ?it/s]"
            ],
            "application/vnd.jupyter.widget-view+json": {
              "version_major": 2,
              "version_minor": 0,
              "model_id": "03869753490940b88d5f64854ffd681d"
            }
          },
          "metadata": {}
        },
        {
          "output_type": "stream",
          "name": "stdout",
          "text": [
            "inputs:  {'question': 'What are some common causes of one sided SI joint Pain that comes and goes? I am 25 and just had a baby (naturally) 10 months ago. Back pain started at 8 months Postpartum .'}\n",
            "question:  What are some common causes of one sided SI joint Pain that comes and goes? I am 25 and just had a baby (naturally) 10 months ago. Back pain started at 8 months Postpartum .\n",
            "inputs: inputs:  {'question': 'Hi,I am 16 years old female. I urge to pee quite often. I have a sharp pain in my vagina when I pee. I have the urge to pee frequently. But when I go to the toilet, I do not have the urge to pee. Is this due to UTI or STD?'}\n",
            " {'question': 'Hello, I am just now noticing these patches on my skin and would like your input. My skin does not itch but I have been noticing patches on my chest and it is all over my back.'}\n",
            "question:  Hello, I am just now noticing these patches on my skin and would like your input. My skin does not itch but I have been noticing patches on my chest and it is all over my back.\n",
            "inputs: question:  Hi,I am 16 years old female. I urge to pee quite often. I have a sharp pain in my vagina when I pee. I have the urge to pee frequently. But when I go to the toilet, I do not have the urge to pee. Is this due to UTI or STD?\n",
            "inputs:  {'question': 'Hello,From the last 15 days I have a problem that I feel pain in my belly and then after that, I have to go to the toilet to pass stool. This happened 4 to 5 times a day. Because of this I also have a problem of rashes on my anus. Kindly suggest.'}\n",
            "question:  {'question': 'Hello,I am having left-sided headache, mostly frontal and behind my eye for a week. I have ear pressure and pressure in my nose while moving and chewing. I have seen my PCP, and I was given Imitrex that does not help. I have tried Aleve, Motrin, and Excedrin.'}\n",
            "question:  Hello,I am having left-sided headache, mostly frontal and behind my eye for a week. I have ear pressure and pressure in my nose while moving and chewing. I have seen my PCP, and I was given Imitrex that does not help. I have tried Aleve, Motrin, and Excedrin.\n",
            " Hello,From the last 15 days I have a problem that I feel pain in my belly and then after that, I have to go to the toilet to pass stool. This happened 4 to 5 times a day. Because of this I also have a problem of rashes on my anus. Kindly suggest.\n",
            "output:  Thank you for sharing your symptoms. Based on your description of non-itchy patches on your chest and back, there are several potential conditions to consider. Here are a few possibilities:\n",
            "\n",
            "1. **Pityriasis Versicolor**: This is a common fungal skin condition that can cause discolored patches on the skin. It often appears on the chest and back and is usually not itchy. The patches can be lighter or darker than the surrounding skin and may become more noticeable after sun exposure.\n",
            "\n",
            "2. **Tinea Versicolor**: Similar to pityriasis versicolor, this is a fungal infection that can cause patches on the skin. It typically does not cause itching and can also affect the chest and back.\n",
            "\n",
            "3. **Eczema (Atopic Dermatitis)**: While eczema is often itchy, there are forms that can present as dry patches without significant itching. It can appear on various parts of the body, including the chest and back.\n",
            "\n",
            "4. **Psoriasis**: This is a chronic autoimmune condition that can cause red, scaly patches on the skin. While it is often itchy, some people may experience it without significant discomfort.\n",
            "\n",
            "5. **Seborrheic Dermatitis**: This condition can cause red, flaky patches and is often seen on areas with a lot of oil glands, such as the chest and back. It may not always be itchy.\n",
            "\n",
            "6. **Contact Dermatitis**: If you've recently come into contact with a new product (like soap, lotion, or detergent), it could cause a reaction that results in patches, even if they are not itchy.\n",
            "\n",
            "To narrow down the diagnosis, consider the following questions:\n",
            "- Have you noticed any changes in the color or texture of the patches?\n",
            "- Have you recently changed any skincare products or been exposed to new environments?\n",
            "- Do you have any other symptoms, such as fever or fatigue?\n",
            "\n",
            "It's important to consult a healthcare professional for an accurate diagnosis and appropriate treatment, especially if the patches persist or change. They may perform a physical examination and possibly some tests to determine the exact cause.\n",
            "output:  One-sided sacroiliac (SI) joint pain that comes and goes can be attributed to several common causes, especially in the context of being postpartum. Here are some potential causes to consider:\n",
            "\n",
            "1. **Postpartum Changes**: After childbirth, the body undergoes significant hormonal changes, particularly with the hormone relaxin, which helps to loosen ligaments in preparation for delivery. This can lead to instability in the SI joint, resulting in pain.\n",
            "\n",
            "2. **Muscle Imbalances**: Pregnancy and the physical demands of caring for a newborn can lead to muscle imbalances. Weakness in the core or pelvic floor muscles can contribute to SI joint dysfunction, causing pain on one side.\n",
            "\n",
            "3. **Biomechanical Changes**: The body’s alignment and posture can change during and after pregnancy. Carrying a baby, breastfeeding, and other activities can lead to uneven stress on the SI joint, resulting in pain.\n",
            "\n",
            "4. **Previous Injuries**: If you had any prior injuries to the lower back or pelvis, these could be exacerbated by the physical changes and demands of postpartum life.\n",
            "\n",
            "5. **Inflammation or Arthritis**: Conditions such as sacroiliitis (inflammation of the SI joint) or other forms of arthritis can cause intermittent pain. This is less common in younger individuals but still a possibility.\n",
            "\n",
            "6. **Nerve Irritation**: Sometimes, irritation of the nerves around the SI joint can lead to pain that may come and go, especially with certain movements or activities.\n",
            "\n",
            "7. **Overuse or Strain**: Engaging in activities that put strain on the lower back or pelvis, such as lifting or carrying your baby, can lead to flare-ups of pain.\n",
            "\n",
            "Given your recent postpartum status and the timing of your symptoms, it is likely that the changes in your body related to pregnancy and childbirth are contributing to your SI joint pain. It would be advisable to consult with a healthcare professional, such as a physical therapist or an orthopedic specialist, who can assess your specific situation and recommend appropriate treatment options, which may include physical therapy, exercises to strengthen the core and pelvic floor, or other interventions to alleviate pain and improve stability.\n",
            "output:  Based on the symptoms you've described—left-sided headache primarily in the frontal region and behind the eye, along with ear pressure and nasal pressure while moving and chewing—there are a few potential diagnoses to consider:\n",
            "\n",
            "1. **Sinusitis**: The pressure in your nose and ears, combined with the headache, suggests that you may be experiencing sinusitis, which is an inflammation of the sinuses. This condition can cause headaches that are often localized to the forehead and around the eyes, as well as pressure sensations in the face and ears. The fact that your headache has persisted for a week and is associated with pressure symptoms supports this diagnosis.\n",
            "\n",
            "2. **Migraine**: While you mentioned that Imitrex (sumatriptan), a medication commonly used for migraines, did not help, it's still possible that you could be experiencing a migraine variant. Migraines can sometimes present with unilateral headaches and associated symptoms like nasal congestion or pressure. However, the presence of significant nasal and ear pressure leans more towards sinus involvement.\n",
            "\n",
            "3. **Tension-type headache**: This type of headache can also cause discomfort in the forehead and behind the eyes, but it typically does not cause significant pressure in the ears or nose. Given your other symptoms, this is less likely to be the primary issue.\n",
            "\n",
            "4. **Cluster headache**: This is a less common type of headache that can cause severe pain around one eye and may be associated with nasal congestion or tearing. However, cluster headaches usually have a more episodic nature and are often accompanied by other specific symptoms.\n",
            "\n",
            "Given the combination of your symptoms, sinusitis seems to be the most likely diagnosis. It would be advisable to follow up with your healthcare provider for further evaluation, which may include imaging studies (like a CT scan) or referral to an ENT specialist if sinusitis is suspected. Treatment may involve nasal decongestants, saline nasal sprays, or possibly antibiotics if a bacterial infection is suspected.\n",
            "\n",
            "If your symptoms worsen or you develop new symptoms (such as fever, vision changes, or severe swelling), seek medical attention promptly.\n",
            "output:  Based on the symptoms you've described—frequent urge to urinate, sharp pain in the vagina during urination, and the feeling of urgency without a significant amount of urine being produced—it is possible that you may have a urinary tract infection (UTI). \n",
            "\n",
            "Here’s the reasoning behind this diagnosis:\n",
            "\n",
            "1. **Frequent Urination**: UTIs often cause an increased frequency of urination. This is due to inflammation of the bladder, which can create a sensation of needing to urinate even when the bladder is not full.\n",
            "\n",
            "2. **Pain During Urination**: The sharp pain you experience while urinating is also a common symptom of a UTI. This pain can occur due to irritation of the bladder and urethra.\n",
            "\n",
            "3. **Urge Without Output**: The feeling of urgency without being able to produce much urine can occur in UTIs, as the bladder may be inflamed and overly sensitive.\n",
            "\n",
            "While sexually transmitted infections (STIs) can also cause similar symptoms, the combination of frequent urination and pain during urination is more characteristic of a UTI, especially in a young female. However, STIs such as chlamydia or gonorrhea can also lead to urinary symptoms, so it is important to consider that possibility as well.\n",
            "\n",
            "**Next Steps**: It is crucial to see a healthcare provider for a proper evaluation. They may perform a urinalysis to check for signs of infection and possibly a culture to identify the specific bacteria causing the UTI. If there is a concern for an STI, they may also recommend testing for that.\n",
            "\n",
            "In summary, while a UTI is a likely cause of your symptoms, it is important to get a professional evaluation to rule out other conditions and receive appropriate treatment.\n",
            "output:  Based on the symptoms you've described, it sounds like you may be experiencing a gastrointestinal issue that is leading to frequent bowel movements and abdominal pain. Here are a few potential diagnoses to consider:\n",
            "\n",
            "1. **Gastroenteritis**: This is an inflammation of the stomach and intestines, often caused by viral or bacterial infections. Symptoms typically include abdominal pain, diarrhea, and sometimes vomiting. The frequent bowel movements could be causing irritation and rashes around the anus.\n",
            "\n",
            "2. **Irritable Bowel Syndrome (IBS)**: This is a chronic condition that can cause abdominal pain, bloating, and changes in bowel habits, including diarrhea. Stress and certain foods can trigger symptoms.\n",
            "\n",
            "3. **Food Intolerance or Allergy**: Certain foods can cause gastrointestinal distress, leading to abdominal pain and diarrhea. Common culprits include lactose (in dairy products) and gluten (in wheat products).\n",
            "\n",
            "4. **Inflammatory Bowel Disease (IBD)**: Conditions like Crohn's disease or ulcerative colitis can cause similar symptoms, including abdominal pain and diarrhea. These are more serious conditions that require medical evaluation.\n",
            "\n",
            "5. **Infection**: A bacterial infection, such as from contaminated food or water, could lead to symptoms like yours.\n",
            "\n",
            "The rashes around your anus are likely a result of frequent bowel movements and irritation. This can happen when the skin is exposed to moisture and stool, leading to a condition known as dermatitis.\n",
            "\n",
            "### Recommendations:\n",
            "- **Hydration**: Ensure you are drinking plenty of fluids to stay hydrated, especially if you are experiencing diarrhea.\n",
            "- **Diet**: Consider keeping a food diary to identify any potential triggers. You may want to avoid dairy, spicy foods, and high-fiber foods temporarily to see if symptoms improve.\n",
            "- **Over-the-Counter Treatments**: You might consider using barrier creams or ointments for the rashes to protect the skin.\n",
            "- **Medical Evaluation**: It is important to consult a healthcare professional for a thorough evaluation, especially if symptoms persist or worsen. They may recommend tests to determine the underlying cause and appropriate treatment.\n",
            "\n",
            "If you experience severe pain, blood in your stool, or signs of dehydration, seek medical attention immediately.\n"
          ]
        }
      ]
    },
    {
      "cell_type": "markdown",
      "source": [
        "\n",
        "https://huggingface.co/PrunaAI/OpenBioLLM-Llama3-70B-GGUF-smashed\n",
        "\n",
        "\n",
        " -- CUDA host compiler is GNU\n",
        "  CMake Error at vendor/llama.cpp/ggml/src/CMakeLists.txt:1010 (get_flags):\n",
        "    get_flags Function invoked with incorrect arguments for function named:\n",
        "    get_flags"
      ],
      "metadata": {
        "id": "D5CgZ77JpFlV"
      }
    },
    {
      "cell_type": "code",
      "source": [],
      "metadata": {
        "id": "XYJuMz0hpAKE"
      },
      "execution_count": null,
      "outputs": []
    },
    {
      "cell_type": "code",
      "source": [],
      "metadata": {
        "id": "8EXtztcZ1NoK"
      },
      "execution_count": null,
      "outputs": []
    }
  ]
}